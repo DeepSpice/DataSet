{
 "cells": [
  {
   "cell_type": "code",
   "execution_count": 31,
   "metadata": {},
   "outputs": [],
   "source": [
    "import numpy as np\n",
    "import random\n",
    "import sys\n",
    "import os\n",
    "from circuit_generator import schematicAscGenerator"
   ]
  },
  {
   "cell_type": "code",
   "execution_count": 32,
   "metadata": {},
   "outputs": [],
   "source": [
    "n_elements = random.randint(2, 15)\n",
    "n_nodes = [i for i in range(random.randint(2, n_elements))]\n",
    "generator = schematicAscGenerator()\n",
    "elements = generator.getComponents()\n",
    "orientation = [0, 90]"
   ]
  },
  {
   "cell_type": "code",
   "execution_count": 33,
   "metadata": {},
   "outputs": [
    {
     "name": "stdout",
     "output_type": "stream",
     "text": [
      "48 -112 48 -112\n",
      "64 -80 48 -112\n",
      "64 -64 48 -112\n",
      "128 -16 48 -112\n",
      "48 -48 48 -112\n",
      "[[48, -112], [64, -80], [64, -64], [128, -16], [48, -48]]\n",
      "64 -144 64 -144\n",
      "48 -48 64 -144\n",
      "128 -16 64 -144\n",
      "[[64, -144], [48, -48], [128, -16]]\n"
     ]
    },
    {
     "ename": "IndexError",
     "evalue": "list index out of range",
     "output_type": "error",
     "traceback": [
      "\u001b[1;31m---------------------------------------------------------------------------\u001b[0m",
      "\u001b[1;31mIndexError\u001b[0m                                Traceback (most recent call last)",
      "\u001b[1;32md:\\OneDrive - Universidad Nacional de Colombia\\UN\\DeepSpice\\Git\\DataSet\\data.ipynb Cell 3\u001b[0m line \u001b[0;36m3\n\u001b[0;32m     <a href='vscode-notebook-cell:/d%3A/OneDrive%20-%20Universidad%20Nacional%20de%20Colombia/UN/DeepSpice/Git/DataSet/data.ipynb#W4sZmlsZQ%3D%3D?line=35'>36</a>\u001b[0m \u001b[39mfor\u001b[39;00m init, end, element \u001b[39min\u001b[39;00m init_end:\n\u001b[0;32m     <a href='vscode-notebook-cell:/d%3A/OneDrive%20-%20Universidad%20Nacional%20de%20Colombia/UN/DeepSpice/Git/DataSet/data.ipynb#W4sZmlsZQ%3D%3D?line=36'>37</a>\u001b[0m     \u001b[39mif\u001b[39;00m init \u001b[39m==\u001b[39m node:\n\u001b[1;32m---> <a href='vscode-notebook-cell:/d%3A/OneDrive%20-%20Universidad%20Nacional%20de%20Colombia/UN/DeepSpice/Git/DataSet/data.ipynb#W4sZmlsZQ%3D%3D?line=37'>38</a>\u001b[0m         x_in \u001b[39m=\u001b[39m coords[element][\u001b[39m\"\u001b[39m\u001b[39mstart_x\u001b[39m\u001b[39m\"\u001b[39m]\n\u001b[0;32m     <a href='vscode-notebook-cell:/d%3A/OneDrive%20-%20Universidad%20Nacional%20de%20Colombia/UN/DeepSpice/Git/DataSet/data.ipynb#W4sZmlsZQ%3D%3D?line=38'>39</a>\u001b[0m         y_in \u001b[39m=\u001b[39m coords[element][\u001b[39m\"\u001b[39m\u001b[39mstart_y\u001b[39m\u001b[39m\"\u001b[39m]\n\u001b[0;32m     <a href='vscode-notebook-cell:/d%3A/OneDrive%20-%20Universidad%20Nacional%20de%20Colombia/UN/DeepSpice/Git/DataSet/data.ipynb#W4sZmlsZQ%3D%3D?line=39'>40</a>\u001b[0m         items\u001b[39m.\u001b[39mappend([x_in, y_in])\n",
      "\u001b[1;31mIndexError\u001b[0m: list index out of range"
     ]
    }
   ],
   "source": [
    "positions = []\n",
    "generator.reset()\n",
    "for element in range(n_elements):\n",
    "    node_i = random.choice(n_nodes)\n",
    "    node_f = random.choice(np.delete(n_nodes, node_i))\n",
    "\n",
    "    component = random.choice(elements)\n",
    "    x_i, y_i = np.random.randint(1,5, size=2)*16\n",
    "\n",
    "    if component == \"ground\":\n",
    "        generator.ground(x_i, y_i)\n",
    "    elif component == \"res\":\n",
    "        generator.res(x_i, y_i, random.choice(orientation), random.randint(1,5))\n",
    "    elif component == \"cap\":\n",
    "        generator.cap(x_i, y_i, random.choice(orientation), random.randint(1,5))\n",
    "    elif component == \"ind\":\n",
    "        generator.ind(x_i, y_i, random.choice(orientation), random.randint(1,5))\n",
    "    elif component == \"diode\":\n",
    "        generator.diode(x_i, y_i, random.choice(orientation))\n",
    "    elif component == \"voltage\":\n",
    "        generator.voltage(x_i, y_i, random.choice(orientation), random.randint(1,5))\n",
    "    elif component == \"current\":\n",
    "        generator.current(x_i, y_i, random.choice(orientation), random.randint(1,5))\n",
    "\n",
    "    positions.append({\n",
    "        \"node_i\": node_i,\n",
    "        \"node_f\": node_f,\n",
    "        \"element\": element\n",
    "    })\n",
    "\n",
    "init_end = [ [i[\"node_i\"], i[\"node_f\"], i[\"element\"]] for i in positions]\n",
    "\n",
    "coords = generator.getCoords()\n",
    "for node in n_nodes:\n",
    "    items = []\n",
    "    for init, end, element in init_end:\n",
    "        if init == node:\n",
    "            x_in = coords[element][\"start_x\"]\n",
    "            y_in = coords[element][\"start_y\"]\n",
    "            items.append([x_in, y_in])\n",
    "        if end == node:\n",
    "            x_fin = coords[element][\"end_x\"]\n",
    "            y_fin = coords[element][\"end_y\"]\n",
    "            items.append([x_fin, y_fin])\n",
    "    \n",
    "    for index, item in enumerate(items):\n",
    "        if index == 0:\n",
    "            pass\n",
    "        print(item[0], item[1], items[0][0], items[0][1])\n",
    "        generator.wire(item[0], item[1], items[0][0], items[0][1])\n",
    "    print(items)\n",
    "    "
   ]
  },
  {
   "cell_type": "code",
   "execution_count": 34,
   "metadata": {},
   "outputs": [
    {
     "name": "stdout",
     "output_type": "stream",
     "text": [
      "[[5, 4, 0], [4, 0, 1], [5, 1, 2], [0, 5, 3], [0, 3, 4], [2, 4, 5], [1, 4, 6], [5, 1, 7], [5, 0, 8], [0, 3, 9], [2, 5, 10]]\n"
     ]
    }
   ],
   "source": [
    "print(init_end)"
   ]
  },
  {
   "cell_type": "code",
   "execution_count": 35,
   "metadata": {},
   "outputs": [
    {
     "data": {
      "text/plain": [
       "[{'start_x': 16, 'start_y': -32, 'end_x': 96, 'end_y': -32},\n",
       " {'start_x': 48, 'start_y': -32, 'end_x': 48, 'end_y': -112},\n",
       " {'start_x': 64, 'start_y': -64, 'end_x': 64, 'end_y': -144},\n",
       " {'start_x': 64, 'start_y': -80, 'end_x': 144, 'end_y': -80},\n",
       " {'start_x': 64, 'start_y': -64, 'end_x': 144, 'end_y': -64},\n",
       " {'start_x': 48, 'start_y': -64, 'end_x': 128, 'end_y': -64},\n",
       " {'start_x': 48, 'start_y': -48, 'end_x': 128, 'end_y': -48},\n",
       " {'start_x': 48, 'start_y': -16, 'end_x': 128, 'end_y': -16},\n",
       " {'start_x': 48, 'start_y': -16, 'end_x': 128, 'end_y': -16},\n",
       " {'start_x': 48, 'start_y': -48, 'end_x': 48, 'end_y': -128}]"
      ]
     },
     "execution_count": 35,
     "metadata": {},
     "output_type": "execute_result"
    }
   ],
   "source": [
    "generator.getCoords()"
   ]
  },
  {
   "cell_type": "code",
   "execution_count": 29,
   "metadata": {},
   "outputs": [
    {
     "data": {
      "text/plain": [
       "{'W0': 'WIRE 48 32 48 32',\n",
       " 'W1': 'WIRE 160 32 48 32',\n",
       " 'W2': 'WIRE 144 16 48 16\\nWIRE 48 16 48 32',\n",
       " 'W3': 'WIRE 128 32 128 32',\n",
       " 'W4': 'WIRE 80 32 128 32',\n",
       " 'W5': 'WIRE 64 16 128 16\\nWIRE 128 16 128 32',\n",
       " 'W6': 'WIRE -16 16 -32 16\\nWIRE -32 16 -32 32'}"
      ]
     },
     "execution_count": 29,
     "metadata": {},
     "output_type": "execute_result"
    }
   ],
   "source": [
    "generator.getWires()"
   ]
  },
  {
   "cell_type": "code",
   "execution_count": 28,
   "metadata": {},
   "outputs": [],
   "source": [
    "generator.wire(-15, -15, -30, -30)"
   ]
  },
  {
   "cell_type": "code",
   "execution_count": 25,
   "metadata": {},
   "outputs": [],
   "source": [
    "generator.compile()"
   ]
  }
 ],
 "metadata": {
  "kernelspec": {
   "display_name": "Python 3",
   "language": "python",
   "name": "python3"
  },
  "language_info": {
   "codemirror_mode": {
    "name": "ipython",
    "version": 3
   },
   "file_extension": ".py",
   "mimetype": "text/x-python",
   "name": "python",
   "nbconvert_exporter": "python",
   "pygments_lexer": "ipython3",
   "version": "3.11.4"
  },
  "orig_nbformat": 4
 },
 "nbformat": 4,
 "nbformat_minor": 2
}
