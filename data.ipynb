{
 "cells": [
  {
   "cell_type": "code",
   "execution_count": 11,
   "metadata": {},
   "outputs": [],
   "source": [
    "import numpy as np\n",
    "import random\n",
    "import sys\n",
    "import os\n",
    "from circuit_generator import schematicAscGenerator"
   ]
  },
  {
   "cell_type": "code",
   "execution_count": 12,
   "metadata": {},
   "outputs": [],
   "source": [
    "n_elements = random.randint(2, 15)\n",
    "#n_elements = 2\n",
    "n_nodes = [i for i in range(random.randint(2, n_elements))]\n",
    "generator = schematicAscGenerator()\n",
    "elements = generator.getComponents()\n",
    "elements = [\"diode\"]\n",
    "orientation = [0, 90]"
   ]
  },
  {
   "cell_type": "code",
   "execution_count": 13,
   "metadata": {},
   "outputs": [
    {
     "name": "stdout",
     "output_type": "stream",
     "text": [
      "n_nodes [0, 1]\n",
      "positions: [{'node_i': 0, 'node_f': 1, 'element': 0}, {'node_i': 1, 'node_f': 0, 'element': 1}]\n",
      "--------------------\n",
      "cords [{'start_x': 272, 'start_y': 240, 'end_x': 192, 'end_y': 240}, {'start_x': 288, 'start_y': 288, 'end_x': 288, 'end_y': 368}]\n",
      "items:  [[272, 240], [288, 368]]\n",
      "items:  [[192, 240], [288, 288]]\n"
     ]
    }
   ],
   "source": [
    "positions = []\n",
    "generator.reset()\n",
    "print(\"n_nodes\", n_nodes)\n",
    "for element in range(n_elements):\n",
    "    node_i = random.choice(n_nodes)\n",
    "    node_f = random.choice(np.delete(n_nodes, node_i))\n",
    "\n",
    "    component = random.choice(elements)\n",
    "    x_i, y_i = np.random.randint(10,20, size=2)*16\n",
    "\n",
    "    if component == \"ground\":\n",
    "        generator.ground(x_i, y_i)\n",
    "    elif component == \"res\":\n",
    "        generator.res(x_i, y_i, random.choice(orientation), random.randint(1,5))\n",
    "    elif component == \"cap\":\n",
    "        generator.cap(x_i, y_i, random.choice(orientation), random.randint(1,5))\n",
    "    elif component == \"ind\":\n",
    "        generator.ind(x_i, y_i, random.choice(orientation), random.randint(1,5))\n",
    "    elif component == \"diode\":\n",
    "        generator.diode(x_i, y_i, random.choice(orientation))\n",
    "    elif component == \"voltage\":\n",
    "        generator.voltage(x_i, y_i, random.choice(orientation), random.randint(1,5))\n",
    "    elif component == \"current\":\n",
    "        generator.current(x_i, y_i, random.choice(orientation), random.randint(1,5))\n",
    "\n",
    "    positions.append({\n",
    "        \"node_i\": node_i,\n",
    "        \"node_f\": node_f,\n",
    "        \"element\": element\n",
    "    })\n",
    "\n",
    "print(\"positions:\", positions)\n",
    "init_end = [ [i[\"node_i\"], i[\"node_f\"], i[\"element\"]] for i in positions]\n",
    "\n",
    "print(\"-\"*20)\n",
    "coords = generator.getCoords()\n",
    "print(\"cords\", coords)\n",
    "for node in n_nodes:\n",
    "    items = []\n",
    "    for init, end, element in init_end:\n",
    "        if init == node:\n",
    "            x_in = coords[element][\"start_x\"]\n",
    "            y_in = coords[element][\"start_y\"]\n",
    "            items.append([x_in, y_in])\n",
    "        if end == node:\n",
    "            x_fin = coords[element][\"end_x\"]\n",
    "            y_fin = coords[element][\"end_y\"]\n",
    "            items.append([x_fin, y_fin])\n",
    "    print(\"items: \", items)\n",
    "    for index, item in enumerate(items):\n",
    "        if index == 0:\n",
    "            continue\n",
    "        generator.wire(item[0], item[1], items[0][0], items[0][1])\n",
    "    "
   ]
  },
  {
   "cell_type": "code",
   "execution_count": 14,
   "metadata": {},
   "outputs": [
    {
     "data": {
      "text/plain": [
       "{'W0': 'WIRE 288 368 272 368\\nWIRE 272 368 272 240',\n",
       " 'W1': 'WIRE 288 288 192 288\\nWIRE 192 288 192 240'}"
      ]
     },
     "execution_count": 14,
     "metadata": {},
     "output_type": "execute_result"
    }
   ],
   "source": [
    "generator.getWires()"
   ]
  },
  {
   "cell_type": "code",
   "execution_count": 15,
   "metadata": {},
   "outputs": [],
   "source": [
    "generator.compile()"
   ]
  },
  {
   "cell_type": "code",
   "execution_count": null,
   "metadata": {},
   "outputs": [],
   "source": []
  },
  {
   "cell_type": "code",
   "execution_count": null,
   "metadata": {},
   "outputs": [],
   "source": []
  },
  {
   "cell_type": "code",
   "execution_count": 11,
   "metadata": {},
   "outputs": [],
   "source": [
    "nodes  = 2"
   ]
  },
  {
   "cell_type": "code",
   "execution_count": 12,
   "metadata": {},
   "outputs": [
    {
     "data": {
      "text/plain": [
       "[{'start_x': 48, 'start_y': 32, 'end_x': 48, 'end_y': -48},\n",
       " {'start_x': 128, 'start_y': 32, 'end_x': 128, 'end_y': -48}]"
      ]
     },
     "execution_count": 12,
     "metadata": {},
     "output_type": "execute_result"
    }
   ],
   "source": [
    "generator.res(64, 48, 0, 0)\n",
    "generator.res(144, 48, 0, 0)\n",
    "generator.getCoords()"
   ]
  },
  {
   "cell_type": "code",
   "execution_count": 13,
   "metadata": {},
   "outputs": [
    {
     "name": "stdout",
     "output_type": "stream",
     "text": [
      "cords [{'start_x': 48, 'start_y': 32, 'end_x': 48, 'end_y': -48}, {'start_x': 128, 'start_y': 32, 'end_x': 128, 'end_y': -48}]\n",
      "items:  [[48, 32], [128, 32]]\n",
      "paso\n",
      "items:  [[48, -48], [128, -48]]\n",
      "paso\n"
     ]
    }
   ],
   "source": [
    "positions = [{\n",
    "        \"node_i\": 0,\n",
    "        \"node_f\": 1,\n",
    "        \"element\": 0\n",
    "    },\n",
    "    {\n",
    "        \"node_i\": 0,\n",
    "        \"node_f\": 1,\n",
    "        \"element\": 1\n",
    "    }]\n",
    "init_end = [ [i[\"node_i\"], i[\"node_f\"], i[\"element\"]] for i in positions]\n",
    "coords = generator.getCoords()\n",
    "print(\"cords\", coords)\n",
    "for node in n_nodes:\n",
    "    items = []\n",
    "    for init, end, element in init_end:\n",
    "        if init == node:\n",
    "            x_in = coords[element][\"start_x\"]\n",
    "            y_in = coords[element][\"start_y\"]\n",
    "            items.append([x_in, y_in])\n",
    "        if end == node:\n",
    "            x_fin = coords[element][\"end_x\"]\n",
    "            y_fin = coords[element][\"end_y\"]\n",
    "            items.append([x_fin, y_fin])\n",
    "    print(\"items: \", items)\n",
    "    for index, item in enumerate(items):\n",
    "        if index == 0:\n",
    "            print(\"paso\")\n",
    "            continue\n",
    "        generator.wire(item[0], item[1], items[0][0], items[0][1])\n",
    "    "
   ]
  }
 ],
 "metadata": {
  "kernelspec": {
   "display_name": "Python 3",
   "language": "python",
   "name": "python3"
  },
  "language_info": {
   "codemirror_mode": {
    "name": "ipython",
    "version": 3
   },
   "file_extension": ".py",
   "mimetype": "text/x-python",
   "name": "python",
   "nbconvert_exporter": "python",
   "pygments_lexer": "ipython3",
   "version": "3.11.4"
  },
  "orig_nbformat": 4
 },
 "nbformat": 4,
 "nbformat_minor": 2
}
